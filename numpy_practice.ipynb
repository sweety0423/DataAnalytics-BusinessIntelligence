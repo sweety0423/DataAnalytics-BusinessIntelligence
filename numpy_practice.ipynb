{
 "cells": [
  {
   "cell_type": "code",
   "execution_count": 5,
   "id": "af860414-426a-4cb4-a60c-64261b65be7f",
   "metadata": {},
   "outputs": [
    {
     "data": {
      "text/plain": [
       "array([0, 2, 4, 6, 8])"
      ]
     },
     "execution_count": 5,
     "metadata": {},
     "output_type": "execute_result"
    }
   ],
   "source": [
    "import numpy as np\n",
    "\n",
    "# Creating Arrays\n",
    "arr = np.array([1, 2, 3]) \n",
    "#Create an array from a list or tuple.\n",
    "zeros_arr = np.zeros(3)\n",
    "## Creates a 1D array of length 3 filled with zeros\n",
    "ones_arr = np.ones((2, 3))\n",
    "# Creates a 2D array of shape (2, 3) filled with ones\n",
    "range_arr = np.arange(0, 10, 2)\n",
    "#Create an array with regularly spaced values.\n",
    "arr\n",
    "zeros_arr\n",
    "ones_arr\n",
    "range_arr"
   ]
  },
  {
   "cell_type": "code",
   "execution_count": 8,
   "id": "23e7709e-d247-4ea7-a80c-f9878d348dae",
   "metadata": {},
   "outputs": [
    {
     "data": {
      "text/plain": [
       "array([[1, 2, 3],\n",
       "       [4, 5, 6]])"
      ]
     },
     "execution_count": 8,
     "metadata": {},
     "output_type": "execute_result"
    }
   ],
   "source": [
    "#numpy.reshape(): Reshape an array\n",
    "arr = np.array([1, 2, 3, 4, 5, 6])\n",
    "reshaped_arr = arr.reshape(2, 3)  # Reshapes to a 2D array of shape (2, 3)\n",
    "arr\n",
    "reshaped_arr"
   ]
  },
  {
   "cell_type": "code",
   "execution_count": 9,
   "id": "abf642f4-3549-47e2-a4e1-134766a2bd8f",
   "metadata": {},
   "outputs": [
    {
     "data": {
      "text/plain": [
       "array([[1, 3],\n",
       "       [2, 4]])"
      ]
     },
     "execution_count": 9,
     "metadata": {},
     "output_type": "execute_result"
    }
   ],
   "source": [
    "#numpy.transpose(): Transpose of an array.\n",
    "arr = np.array([[1, 2], [3, 4]])\n",
    "transposed_arr = np.transpose(arr)  # Transposes the array\n",
    "transposed_arr"
   ]
  },
  {
   "cell_type": "code",
   "execution_count": 10,
   "id": "f0499d8e-fafe-470d-9533-1ceffe46cbc5",
   "metadata": {},
   "outputs": [
    {
     "data": {
      "text/plain": [
       "array([1, 2, 3, 4, 5, 6])"
      ]
     },
     "execution_count": 10,
     "metadata": {},
     "output_type": "execute_result"
    }
   ],
   "source": [
    "#numpy.concatenate(): Concatenate arrays along a given axis.\n",
    "arr1 = np.array([1, 2, 3])\n",
    "arr2 = np.array([4, 5, 6])\n",
    "concatenated_arr = np.concatenate((arr1, arr2))  # Concatenates the arrays\n",
    "concatenated_arr"
   ]
  },
  {
   "cell_type": "code",
   "execution_count": 11,
   "id": "2b40072b-bb1f-4201-a222-599cc6d36545",
   "metadata": {},
   "outputs": [
    {
     "name": "stdout",
     "output_type": "stream",
     "text": [
      "Array 1:\n",
      " [[1 2 3]\n",
      " [4 5 6]]\n",
      "Array 2:\n",
      " [[ 7  8  9]\n",
      " [10 11 12]]\n",
      "Concatenated along rows (axis 0):\n",
      " [[ 1  2  3]\n",
      " [ 4  5  6]\n",
      " [ 7  8  9]\n",
      " [10 11 12]]\n",
      "Concatenated along column (axis 1):\n",
      " [[ 1  2  3  7  8  9]\n",
      " [ 4  5  6 10 11 12]]\n"
     ]
    }
   ],
   "source": [
    "import numpy as np\n",
    "\n",
    "# Create two arrays\n",
    "arr1 = np.array([[1, 2, 3], [4, 5, 6]])\n",
    "arr2 = np.array([[7, 8, 9], [10, 11, 12]])\n",
    "\n",
    "# Concatenate along rows (axis 0)\n",
    "concatenated_rows = np.concatenate((arr1, arr2), axis=0)\n",
    "\n",
    "print(\"Array 1:\\n\", arr1)\n",
    "print(\"Array 2:\\n\", arr2)\n",
    "print(\"Concatenated along rows (axis 0):\\n\", concatenated_rows)\n",
    "\n",
    "# Concatenate along column (axis 1)\n",
    "concatenated_rows1 = np.concatenate((arr1, arr2), axis=1)\n",
    "print(\"Concatenated along column (axis 1):\\n\", concatenated_rows1)"
   ]
  },
  {
   "cell_type": "code",
   "execution_count": 20,
   "id": "a8433657-1647-4fd9-9d67-5a46c50eec80",
   "metadata": {},
   "outputs": [
    {
     "data": {
      "text/plain": [
       "2.5"
      ]
     },
     "execution_count": 20,
     "metadata": {},
     "output_type": "execute_result"
    }
   ],
   "source": [
    "# Mathematical Functions\n",
    "total_sum = np.sum(arr)\n",
    "mean_val = np.mean(arr)\n",
    "total_sum\n",
    "mean_val"
   ]
  },
  {
   "cell_type": "code",
   "execution_count": 21,
   "id": "25ac69cd-fcb3-4050-832e-b282b706c422",
   "metadata": {},
   "outputs": [
    {
     "data": {
      "text/plain": [
       "array([[19, 22],\n",
       "       [43, 50]])"
      ]
     },
     "execution_count": 21,
     "metadata": {},
     "output_type": "execute_result"
    }
   ],
   "source": [
    "#numpy.dot(): Compute the dot product of two arrays\n",
    "arr1 = np.array([[1, 2], [3, 4]])\n",
    "arr2 = np.array([[5, 6], [7, 8]])\n",
    "dot_product = np.dot(arr1, arr2)  # Computes dot product of arr1 and arr2\n",
    "dot_product"
   ]
  },
  {
   "cell_type": "code",
   "execution_count": 22,
   "id": "f6ec24f7-2f5e-41dc-b24f-a26fa14fda7c",
   "metadata": {},
   "outputs": [
    {
     "data": {
      "text/plain": [
       "array([[ 0.6, -0.7],\n",
       "       [-0.2,  0.4]])"
      ]
     },
     "execution_count": 22,
     "metadata": {},
     "output_type": "execute_result"
    }
   ],
   "source": [
    "#numpy.linalg.inv(): Compute the (multiplicative) inverse of a matrix.\n",
    "matrix = np.array([[4, 7], [2, 6]])\n",
    "inv_matrix = np.linalg.inv(matrix)  # Computes the inverse of the matrix\n",
    "inv_matrix"
   ]
  },
  {
   "cell_type": "code",
   "execution_count": 12,
   "id": "91604d92-0ff3-4663-abb4-6d53eb6516be",
   "metadata": {},
   "outputs": [
    {
     "name": "stdout",
     "output_type": "stream",
     "text": [
      "3\n",
      "[3 6]\n"
     ]
    }
   ],
   "source": [
    "a = np.array([(1,2,3),(4,5,6)])\n",
    "print(a[0,2])#print 3\n",
    "print(a[0:,2])# print 3 6 \n"
   ]
  },
  {
   "cell_type": "code",
   "execution_count": 14,
   "id": "82c62387-2bf8-42f6-b1af-7a9ecc480f27",
   "metadata": {},
   "outputs": [
    {
     "name": "stdout",
     "output_type": "stream",
     "text": [
      "[[3]\n",
      " [6]]\n"
     ]
    }
   ],
   "source": [
    "a = np.array([(1,2,3),(4,5,6),(7,8,9)])\n",
    "print(a[0:2,2:])"
   ]
  },
  {
   "cell_type": "code",
   "execution_count": 17,
   "id": "1b3b2940-b078-44f8-accb-adbfc4aeb6d6",
   "metadata": {},
   "outputs": [
    {
     "name": "stdout",
     "output_type": "stream",
     "text": [
      "[[1.         1.41421356 1.73205081]\n",
      " [2.         2.23606798 2.44948974]\n",
      " [2.64575131 2.82842712 3.        ]]\n",
      "2.581988897471611\n"
     ]
    }
   ],
   "source": [
    "a = np.array([(1,2,3),(4,5,6),(7,8,9)])\n",
    "print(np.sqrt(a))\n",
    "print(np.std(a))\n"
   ]
  },
  {
   "cell_type": "code",
   "execution_count": 18,
   "id": "86b00141-959a-4856-ba80-daca8ff7aa40",
   "metadata": {},
   "outputs": [
    {
     "name": "stdout",
     "output_type": "stream",
     "text": [
      "[[ 2  4  6]\n",
      " [ 8 10 12]]\n",
      "[[0 0 0]\n",
      " [0 0 0]]\n",
      "[[ 1  4  9]\n",
      " [16 25 36]]\n",
      "[[1. 1. 1.]\n",
      " [1. 1. 1.]]\n"
     ]
    }
   ],
   "source": [
    "a = np.array([(1,2,3),(4,5,6)])\n",
    "b = np.array([(1,2,3),(4,5,6)])\n",
    "print(a+b)\n",
    "print(a-b)\n",
    "print(a*b)\n",
    "print(a/b)\n"
   ]
  },
  {
   "cell_type": "code",
   "execution_count": null,
   "id": "2306dce9-24e6-4835-b70a-8e7110bcfda7",
   "metadata": {},
   "outputs": [],
   "source": []
  }
 ],
 "metadata": {
  "kernelspec": {
   "display_name": "Python 3 (ipykernel)",
   "language": "python",
   "name": "python3"
  },
  "language_info": {
   "codemirror_mode": {
    "name": "ipython",
    "version": 3
   },
   "file_extension": ".py",
   "mimetype": "text/x-python",
   "name": "python",
   "nbconvert_exporter": "python",
   "pygments_lexer": "ipython3",
   "version": "3.9.13"
  }
 },
 "nbformat": 4,
 "nbformat_minor": 5
}
