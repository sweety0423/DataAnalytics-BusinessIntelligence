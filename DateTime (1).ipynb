{
 "cells": [
  {
   "cell_type": "markdown",
   "metadata": {},
   "source": [
    "# Working with Date and Time"
   ]
  },
  {
   "cell_type": "code",
   "execution_count": 2,
   "metadata": {},
   "outputs": [],
   "source": [
    "# Use datetime class under datetime module to work on date and time\n",
    "from datetime import datetime"
   ]
  },
  {
   "cell_type": "markdown",
   "metadata": {},
   "source": [
    "### Working with Current Date and Time"
   ]
  },
  {
   "cell_type": "code",
   "execution_count": 3,
   "metadata": {},
   "outputs": [
    {
     "name": "stdout",
     "output_type": "stream",
     "text": [
      "2024-02-15 12:54:14.284568\n"
     ]
    }
   ],
   "source": [
    "# Use now() function to see current date and timef\n",
    "x = datetime.now()\n",
    "print(x)"
   ]
  },
  {
   "cell_type": "markdown",
   "metadata": {},
   "source": [
    "### Working with a Sample Date and Time"
   ]
  },
  {
   "cell_type": "code",
   "execution_count": 4,
   "metadata": {},
   "outputs": [
    {
     "name": "stdout",
     "output_type": "stream",
     "text": [
      "2022-05-17 07:12:02\n"
     ]
    }
   ],
   "source": [
    "# creating a datetime object by passing year, month, date, hour, minute, second\n",
    "x = datetime(2022, 5, 17,7,12,2)\n",
    "print(x)"
   ]
  },
  {
   "cell_type": "markdown",
   "metadata": {},
   "source": [
    "### Working with a user defined date"
   ]
  },
  {
   "cell_type": "code",
   "execution_count": 5,
   "metadata": {},
   "outputs": [
    {
     "name": "stdout",
     "output_type": "stream",
     "text": [
      "Enter date in dd/mm/yyyy format : 12/09/2001\n",
      "2001-09-12 00:00:00\n"
     ]
    }
   ],
   "source": [
    "# WAP to input a date in in dd/mm/yyyy format and show the date\n",
    "d,m,y=map(int,input(\"Enter date in dd/mm/yyyy format : \").split(\"/\"))\n",
    "dt=datetime(y,m,d)\n",
    "print(dt)"
   ]
  },
  {
   "cell_type": "code",
   "execution_count": 6,
   "metadata": {},
   "outputs": [
    {
     "name": "stdout",
     "output_type": "stream",
     "text": [
      "Enter date in dd/mm/yyyy hh:mm:ss format : 23/04/1999 04:13:23\n",
      "Your date is 23/04/1999 and time is 04:13:23\n",
      "1999-04-23 04:13:23\n"
     ]
    }
   ],
   "source": [
    "# WAP to input a date in in dd/mm/yyyy hh:mm:ss format and display that date\n",
    "date,time=input(\"Enter date in dd/mm/yyyy hh:mm:ss format : \").split()\n",
    "print(f\"Your date is {date} and time is {time}\")\n",
    "d,m,y=map(int,date.split('/'))\n",
    "h,M,s=map(int,time.split(':'))\n",
    "dt=datetime(y,m,d,h,M,s)\n",
    "print(dt)"
   ]
  },
  {
   "cell_type": "markdown",
   "metadata": {},
   "source": [
    "## Display Date and Time in  various formats"
   ]
  },
  {
   "cell_type": "code",
   "execution_count": 7,
   "metadata": {},
   "outputs": [],
   "source": [
    "# You can display dates in various format using strftime() function\n",
    "\n",
    "# %d  -- Day Number e.g. 22\n",
    "# %A -- Full Day Name e.g. Wednesday\n",
    "# %a -- Short Day Name e.g. Wed\n",
    "\n",
    "# %m   -- month number\n",
    "# %B -- Full Month Name e.g. January\n",
    "# %b -- Short Month Name e.g. Jan\n",
    "\n",
    "# %Y -- Full Year Number e.g. 2022\n",
    "# %y -- Short Year No e.g. 22\n",
    "\n",
    "# %H -- Hours 00-23\n",
    "\n",
    "# %I  -- Hours 00-12\n",
    "# %p  -- AM/PM\n",
    "\n",
    "# %M  -- Minutes\n",
    "# %S  -- Seconds\n",
    "# %f  -- Microseconds"
   ]
  },
  {
   "cell_type": "code",
   "execution_count": 8,
   "metadata": {},
   "outputs": [
    {
     "name": "stdout",
     "output_type": "stream",
     "text": [
      "Thursday 15-Feb-2024\n"
     ]
    }
   ],
   "source": [
    "# Print the date as Tuesday 17-May-2022\n",
    "x=datetime.now()\n",
    "print(x.strftime(\"%A %d-%b-%Y\"))"
   ]
  },
  {
   "cell_type": "code",
   "execution_count": 9,
   "metadata": {},
   "outputs": [
    {
     "name": "stdout",
     "output_type": "stream",
     "text": [
      "15-Feb-2024\n"
     ]
    }
   ],
   "source": [
    "# Print the date as 17-May-2022\n",
    "x=datetime.now()\n",
    "print(x.strftime(\"%d-%b-%Y\"))"
   ]
  },
  {
   "cell_type": "code",
   "execution_count": 10,
   "metadata": {},
   "outputs": [
    {
     "name": "stdout",
     "output_type": "stream",
     "text": [
      "01:03:26 PM\n"
     ]
    }
   ],
   "source": [
    "# Print the time in 12 hour  format with AM/PM\n",
    "x=datetime.now()\n",
    "print(x.strftime(\"%I:%M:%S %p\"))"
   ]
  },
  {
   "cell_type": "code",
   "execution_count": 11,
   "metadata": {},
   "outputs": [
    {
     "name": "stdout",
     "output_type": "stream",
     "text": [
      "13:03:26\n"
     ]
    }
   ],
   "source": [
    "# Print the date time 24 hour format without AM/PM\n",
    "print(x.strftime(\"%H:%M:%S\"))"
   ]
  },
  {
   "cell_type": "code",
   "execution_count": 12,
   "metadata": {},
   "outputs": [
    {
     "name": "stdout",
     "output_type": "stream",
     "text": [
      "15th February,2024\n"
     ]
    }
   ],
   "source": [
    "# Print the date like 17th May,2022\n",
    "print(x.strftime(\"%dth %B,%Y\"))"
   ]
  },
  {
   "cell_type": "code",
   "execution_count": 13,
   "metadata": {},
   "outputs": [
    {
     "name": "stdout",
     "output_type": "stream",
     "text": [
      "Good Afternoon\n"
     ]
    }
   ],
   "source": [
    "# WAP a program to print Good Morning, Good Afternoon or Good Evening base on current time\n",
    "dt=datetime.now()\n",
    "h=int(dt.strftime(\"%H\"))\n",
    "if h<=11:\n",
    "    print(\"Good Morning\")\n",
    "elif h<=18:\n",
    "    print(\"Good Afternoon\")\n",
    "else:\n",
    "    print(\"Good Evening\")"
   ]
  },
  {
   "cell_type": "code",
   "execution_count": null,
   "metadata": {},
   "outputs": [],
   "source": []
  }
 ],
 "metadata": {
  "kernelspec": {
   "display_name": "Python 3",
   "language": "python",
   "name": "python3"
  },
  "language_info": {
   "codemirror_mode": {
    "name": "ipython",
    "version": 3
   },
   "file_extension": ".py",
   "mimetype": "text/x-python",
   "name": "python",
   "nbconvert_exporter": "python",
   "pygments_lexer": "ipython3",
   "version": "3.8.5"
  }
 },
 "nbformat": 4,
 "nbformat_minor": 4
}
